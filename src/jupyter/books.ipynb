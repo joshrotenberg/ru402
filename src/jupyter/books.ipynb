{
 "cells": [
  {
   "cell_type": "code",
   "execution_count": null,
   "id": "573d4f77-c20a-4e47-a542-4d0a48add313",
   "metadata": {},
   "outputs": [],
   "source": [
    "import redis\n",
    "import sentence_transformers"
   ]
  },
  {
   "cell_type": "code",
   "execution_count": null,
   "id": "e6cd3565-004a-4be0-af2d-57d2d1cc510a",
   "metadata": {},
   "outputs": [],
   "source": []
  },
  {
   "cell_type": "code",
   "execution_count": null,
   "id": "a885f1ef-e68c-4517-8529-c747a6768696",
   "metadata": {},
   "outputs": [],
   "source": [
    "for filename in os.listdir(\"../../data/books/\"):\n",
    "    f = os.path.join(\"../../data/books/\", filename)\n",
    "\n",
    "    if os.path.isfile(f):\n",
    "        book_file = io.open(f, encoding=\"utf-8\")\n",
    "        book_json = json.load(book_file)\n",
    "        book_file.close()\n",
    "\n",
    "        "
   ]
  }
 ],
 "metadata": {
  "kernelspec": {
   "display_name": "Python 3 (ipykernel)",
   "language": "python",
   "name": "python3"
  },
  "language_info": {
   "codemirror_mode": {
    "name": "ipython",
    "version": 3
   },
   "file_extension": ".py",
   "mimetype": "text/x-python",
   "name": "python",
   "nbconvert_exporter": "python",
   "pygments_lexer": "ipython3",
   "version": "3.9.6"
  }
 },
 "nbformat": 4,
 "nbformat_minor": 5
}
