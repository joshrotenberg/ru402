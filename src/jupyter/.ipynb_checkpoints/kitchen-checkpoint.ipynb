{
 "cells": [
  {
   "cell_type": "code",
   "execution_count": 1,
   "id": "312aac1d-eb00-4c62-8a52-f559b796624a",
   "metadata": {},
   "outputs": [
    {
     "name": "stderr",
     "output_type": "stream",
     "text": [
      "/private/tmp/vssvenv/lib/python3.9/site-packages/urllib3/__init__.py:34: NotOpenSSLWarning: urllib3 v2.0 only supports OpenSSL 1.1.1+, currently the 'ssl' module is compiled with 'LibreSSL 2.8.3'. See: https://github.com/urllib3/urllib3/issues/3020\n",
      "  warnings.warn(\n"
     ]
    }
   ],
   "source": [
    "import redis\n",
    "import io\n",
    "import os\n",
    "import json\n",
    "from redis.commands.search.query import Query\n",
    "from redis.commands.search.indexDefinition import IndexDefinition, IndexType\n",
    "from redis.commands.search.field import TextField, TagField, NumericField, VectorField\n",
    "import numpy as np\n",
    "from numpy.linalg import norm\n",
    "from img2vec_pytorch import Img2Vec\n",
    "from PIL import Image"
   ]
  },
  {
   "cell_type": "code",
   "execution_count": 2,
   "id": "ad89564f-51d4-4d92-9dac-97b3933b4053",
   "metadata": {},
   "outputs": [],
   "source": [
    "# Get a Redis connection\n",
    "r = redis.Redis(host='localhost', port=6379, decode_responses=True)"
   ]
  },
  {
   "cell_type": "code",
   "execution_count": 7,
   "id": "97dfc3cd-dc13-4d26-8bdd-7af02e261a2e",
   "metadata": {},
   "outputs": [
    {
     "ename": "NameError",
     "evalue": "name 'img2vec' is not defined",
     "output_type": "error",
     "traceback": [
      "\u001b[0;31m---------------------------------------------------------------------------\u001b[0m",
      "\u001b[0;31mNameError\u001b[0m                                 Traceback (most recent call last)",
      "Cell \u001b[0;32mIn[7], line 11\u001b[0m\n\u001b[1;32m      9\u001b[0m \u001b[38;5;28;01mfor\u001b[39;00m filename \u001b[38;5;129;01min\u001b[39;00m full_paths:\n\u001b[1;32m     10\u001b[0m     img \u001b[38;5;241m=\u001b[39m Image\u001b[38;5;241m.\u001b[39mopen(filename)\u001b[38;5;241m.\u001b[39mconvert(\u001b[38;5;124m'\u001b[39m\u001b[38;5;124mRGB\u001b[39m\u001b[38;5;124m'\u001b[39m)\n\u001b[0;32m---> 11\u001b[0m     vec \u001b[38;5;241m=\u001b[39m \u001b[43mimg2vec\u001b[49m\u001b[38;5;241m.\u001b[39mget_vec(img)\n\u001b[1;32m     12\u001b[0m     embedding \u001b[38;5;241m=\u001b[39m vec\u001b[38;5;241m.\u001b[39mastype(np\u001b[38;5;241m.\u001b[39mfloat32)\u001b[38;5;241m.\u001b[39mtobytes()\n\u001b[1;32m     14\u001b[0m     doc \u001b[38;5;241m=\u001b[39m{\u001b[38;5;124m'\u001b[39m\u001b[38;5;124mpath\u001b[39m\u001b[38;5;124m'\u001b[39m:filename,\n\u001b[1;32m     15\u001b[0m           \u001b[38;5;124m'\u001b[39m\u001b[38;5;124membedding\u001b[39m\u001b[38;5;124m'\u001b[39m:embedding}\n",
      "\u001b[0;31mNameError\u001b[0m: name 'img2vec' is not defined"
     ]
    }
   ],
   "source": [
    "id = 0\n",
    "\n",
    "directory = \"../../data/kitchen/\"\n",
    "file_list = os.listdir(directory)\n",
    "\n",
    "# Get the full paths of the files in the directory\n",
    "full_paths = [os.path.join(directory, filename) for filename in file_list]\n",
    "\n",
    "for filename in full_paths:\n",
    "    img = Image.open(filename).convert('RGB')\n",
    "    vec = img2vec.get_vec(img)\n",
    "    embedding = vec.astype(np.float32).tobytes()\n",
    "\n",
    "    doc ={'path':filename,\n",
    "          'embedding':embedding}\n",
    "    r.hset(f\"kitchen:{id}\",mapping=doc)\n",
    "    id += 1"
   ]
  },
  {
   "cell_type": "code",
   "execution_count": null,
   "id": "397baf50-d478-4986-8b97-92b7d29b8128",
   "metadata": {},
   "outputs": [],
   "source": []
  }
 ],
 "metadata": {
  "kernelspec": {
   "display_name": "Python 3 (ipykernel)",
   "language": "python",
   "name": "python3"
  },
  "language_info": {
   "codemirror_mode": {
    "name": "ipython",
    "version": 3
   },
   "file_extension": ".py",
   "mimetype": "text/x-python",
   "name": "python",
   "nbconvert_exporter": "python",
   "pygments_lexer": "ipython3",
   "version": "3.9.6"
  }
 },
 "nbformat": 4,
 "nbformat_minor": 5
}
